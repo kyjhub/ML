{
  "cells": [
    {
      "cell_type": "markdown",
      "metadata": {
        "id": "view-in-github",
        "colab_type": "text"
      },
      "source": [
        "<a href=\"https://colab.research.google.com/github/kyjhub/ML/blob/main/prediction_of_diabetes_patient.ipynb\" target=\"_parent\"><img src=\"https://colab.research.google.com/assets/colab-badge.svg\" alt=\"Open In Colab\"/></a>"
      ]
    },
    {
      "cell_type": "code",
      "execution_count": null,
      "id": "66316db3",
      "metadata": {
        "id": "66316db3"
      },
      "outputs": [],
      "source": [
        "import pandas as pd\n",
        "import numpy as np\n",
        "df=pd.read_csv('diabetes_binary_5050split_health_indicators_BRFSS2015.csv')\n",
        "df=df.astype('int')\n",
        "df.describe()\n",
        "df.shape"
      ]
    },
    {
      "cell_type": "code",
      "execution_count": null,
      "id": "61855c3c",
      "metadata": {
        "id": "61855c3c"
      },
      "outputs": [],
      "source": [
        "y_label=df['Diabetes_binary']\n",
        "X_features=df.drop(['Diabetes_binary', 'AnyHealthcare'], axis=1)"
      ]
    },
    {
      "cell_type": "code",
      "execution_count": null,
      "id": "d4df3e4c",
      "metadata": {
        "id": "d4df3e4c"
      },
      "outputs": [],
      "source": [
        "import matplotlib.pyplot as plt\n",
        "import numpy as np\n",
        "import seaborn as sns\n",
        "\n",
        "fig = plt.figure(figsize=(8,5))\n",
        "data = [df['BMI'], df['GenHlth'], df['MentHlth'], \n",
        "        df['PhysHlth'],df['Age'], df['Education'], df['Income']]\n",
        "\n",
        "plt.boxplot(data, labels=['BMI', 'GenHlth', 'MentHlth', 'PhysHlth', 'Age',\n",
        "                          'Education', 'Income'])\n",
        "plt.show()\n",
        "fig.savefig('boxplot.png', dpi=200)"
      ]
    },
    {
      "cell_type": "code",
      "execution_count": null,
      "id": "afccbb56",
      "metadata": {
        "id": "afccbb56"
      },
      "outputs": [],
      "source": [
        "#BMI 이상치 제거\n",
        "dset=df['BMI']\n",
        "q_25=np.percentile(dset.values, 25)\n",
        "q_75=np.percentile(dset.values, 75)\n",
        "iqr=(q_75-q_25)*1.5\n",
        "smallest=q_25-iqr\n",
        "largest=q_75+iqr\n",
        "outlier_index=dset[(dset<smallest) | (dset>largest)].index\n",
        "print('이상치 인덱스 : ', outlier_index)\n",
        "X_features.drop(outlier_index, axis=0, inplace=True)\n",
        "y_label.drop(outlier_index, inplace=True)"
      ]
    },
    {
      "cell_type": "code",
      "execution_count": null,
      "id": "450316fe",
      "metadata": {
        "scrolled": true,
        "id": "450316fe"
      },
      "outputs": [],
      "source": [
        "print(\"이상치 삭제 전\",df.shape)\n",
        "#outlier_index=df[df['BMI']>90].index\n",
        "#df=df.drop(outlier_index, axis=0)\n",
        "print(\"이상치 삭제 후\", X_features.shape)"
      ]
    },
    {
      "cell_type": "code",
      "execution_count": null,
      "id": "1a8260cc",
      "metadata": {
        "id": "1a8260cc"
      },
      "outputs": [],
      "source": [
        "from sklearn.model_selection import train_test_split\n",
        "from sklearn.preprocessing import StandardScaler\n",
        "from sklearn.preprocessing import MinMaxScaler\n",
        "\n",
        "import warnings\n",
        "warnings.filterwarnings('ignore')\n",
        "scaler=StandardScaler()\n",
        "str=['BMI','Education','Age','Income','GenHlth','MentHlth','PhysHlth']\n",
        "fset=X_features[str]\n",
        "X_features[str]=scaler.fit_transform(fset)\n",
        "#X_features=StandardScaler().fit_transform(X_features)\n",
        "#scaler = MinMaxScaler(feature_range=(0, 1))\n",
        "#X_features['BMI'] = scaler.fit_transform(pd.DataFrame(X_features['BMI']))\n",
        "#X_features['education'] = scaler.fit_transform(pd.DataFrame(X_features['education']))\n",
        "#X_features['age'] = scaler.fit_transform(pd.DataFrame(X_features['age']))\n",
        "#X_features['income'] = scaler.fit_transform(pd.DataFrame(X_features['income']))\n",
        "#X_features['GenHlth'] = scaler.fit_transform(pd.DataFrame(X_features['GenHlth']))\n",
        "#X_features['MentHlth'] = scaler.fit_transform(pd.DataFrame(X_features['MentHlth']))\n",
        "#X_features['PhysHlth'] = scaler.fit_transform(pd.DataFrame(X_features['PhysHlth']))\n",
        "X_train, X_test, y_train, y_test=train_test_split(X_features, y_label, test_size=0.2, random_state=156)"
      ]
    },
    {
      "cell_type": "code",
      "execution_count": null,
      "id": "9ee36c3a",
      "metadata": {
        "id": "9ee36c3a"
      },
      "outputs": [],
      "source": [
        "X_features.head()"
      ]
    },
    {
      "cell_type": "code",
      "execution_count": null,
      "id": "d16a6059",
      "metadata": {
        "id": "d16a6059"
      },
      "outputs": [],
      "source": [
        "from imblearn.over_sampling import SMOTE\n",
        "oversample = SMOTE(random_state=33)\n",
        "X_train, y_train = oversample.fit_resample(X_train, y_train)\n",
        "print(X_train.shape)"
      ]
    },
    {
      "cell_type": "code",
      "execution_count": null,
      "id": "4e15eeea",
      "metadata": {
        "id": "4e15eeea"
      },
      "outputs": [],
      "source": [
        "print(df.shape)\n",
        "print(df['Diabetes_binary'].value_counts())"
      ]
    },
    {
      "cell_type": "code",
      "execution_count": null,
      "id": "f9372d17",
      "metadata": {
        "id": "f9372d17"
      },
      "outputs": [],
      "source": [
        "from sklearn.model_selection import GridSearchCV, KFold, StratifiedKFold\n",
        "from sklearn.metrics import roc_auc_score\n",
        "from xgboost import XGBClassifier\n",
        "\n",
        "xgb_clf=XGBClassifier(n_estimators=100)\n",
        "params={'booster':['gbtree'], 'n_estimators':[100], 'max_depth':[3,5,7], \n",
        "        'min_child_weight':[1, 3, 5], 'colsample_bytree':[0.5, 0.7, 0.9, 1], \n",
        "        'objective':['binary:logistic'], 'reg_alpha':[0.3, 0.5, 0.7], 'gamma':[0, 1, 2]}\n",
        "#kFold=StratifiedKFold(n_splits=3, shuffle=True, random_state=50)\n",
        "gridcv=GridSearchCV(xgb_clf, param_grid=params, cv=5, scoring=\"recall\")\n",
        "gridcv.fit(X_train, y_train, early_stopping_rounds=100, eval_metric=\"auc\",\n",
        "           eval_set=[(X_train, y_train),(X_test, y_test)])\n",
        "print('gridsearchCV최적 파라미터:', gridcv.best_params_) \n",
        "xgb_roc_score=roc_auc_score(y_test, gridcv.predict_proba(X_test)[:,1], average='macro')\n",
        "print('ROC AUC: {0:.4f}'.format(xgb_roc_score))"
      ]
    },
    {
      "cell_type": "code",
      "execution_count": null,
      "id": "0d9fcf5c",
      "metadata": {
        "id": "0d9fcf5c"
      },
      "outputs": [],
      "source": [
        "from xgboost import XGBClassifier\n",
        "from sklearn.metrics import accuracy_score, precision_score, recall_score, roc_auc_score\n",
        "from sklearn.metrics import f1_score, confusion_matrix, precision_recall_curve, roc_curve\n",
        "import matplotlib.pyplot as plt\n",
        "#163, 164페이지 eval_threshold코드 나와있음 그것으로 수정\n",
        "def eval_set_tpp(y_test, pred=None, pred_prob=None):\n",
        "    confusion=confusion_matrix(y_test, pred)\n",
        "    accuracy=accuracy_score(y_test, pred)\n",
        "    precision=precision_score(y_test, pred)\n",
        "    recall=recall_score(y_test, pred)\n",
        "    f1=f1_score(y_test, pred)\n",
        "    roc_auc=roc_auc_score(y_test, pred_prob)\n",
        "    print('오차행렬')\n",
        "    print(confusion)\n",
        "    print('정확도: {0:.4f}, 재현율: {2:.4f},\\\n",
        "        F1: {3:4f}, AUC:{4:.4f}'.format(accuracy, precision, recall, f1, roc_auc))"
      ]
    },
    {
      "cell_type": "code",
      "execution_count": null,
      "id": "a1d6d55f",
      "metadata": {
        "id": "a1d6d55f"
      },
      "outputs": [],
      "source": [
        "xgb_clf=XGBClassifier(booster='gbtree', n_estimators=500, random_state=50, \n",
        "                      learning_rate=0.01, max_depth=5, min_child_weight=5,\n",
        "                      colsample_bytree=1, reg_alpha=0.7, objective='binary:logistic',\n",
        "                      gamma=1, cv=10)\n",
        "xgb_clf.fit(X_train, y_train, early_stopping_rounds=200, eval_metric=\"auc\", eval_set=[(X_train, y_train), (X_test, y_test)])\n",
        "xgb_roc_score=roc_auc_score(y_test, xgb_clf.predict_proba(X_test)[:,1], average='macro')\n",
        "print('ROC AUC: {0:.4f}'.format(xgb_roc_score))"
      ]
    },
    {
      "cell_type": "code",
      "execution_count": null,
      "id": "fab2462b",
      "metadata": {
        "id": "fab2462b"
      },
      "outputs": [],
      "source": [
        "xgb_pred=xgb_clf.predict(X_test)\n",
        "xgb_pred_proba=xgb_clf.predict_proba(X_test)[:,1]"
      ]
    },
    {
      "cell_type": "code",
      "execution_count": null,
      "id": "4332f16e",
      "metadata": {
        "id": "4332f16e"
      },
      "outputs": [],
      "source": [
        "#XGBoost Wrapper Classification 사용\n",
        "from xgboost import XGBClassifier\n",
        "\n",
        "#xgb_wrapper=XGBClassifier(n_estimators=400, learning_rate=0.1, max_depth=3)\n",
        "#xgb_wrapper.fit(X_train, y_train)\n",
        "#w_preds=xgb_wrapper.predict(X_test)\n",
        "#w_pred_proba=xgb_wrapper.predict_proba(X_test)[:, 1]\n",
        "#eval_set_tpp(y_test, w_preds, w_pred_proba)"
      ]
    },
    {
      "cell_type": "code",
      "execution_count": null,
      "id": "08242460",
      "metadata": {
        "scrolled": false,
        "id": "08242460"
      },
      "outputs": [],
      "source": [
        "thresholds=[0.25,0.3, 0.35, 0.4, 0.45, 0.5, 0.55, 0.6, 0.65]\n",
        "for i in thresholds:\n",
        "    pred_sp=[1 if x> i else 0 for x in xgb_pred_proba]\n",
        "    eval_set_tpp(y_test, pred_sp, xgb_pred_proba)\n",
        "    print(\"\\n\")"
      ]
    },
    {
      "cell_type": "code",
      "execution_count": null,
      "id": "193d7a18",
      "metadata": {
        "id": "193d7a18"
      },
      "outputs": [],
      "source": [
        "def roc_curve_plot(y_test, pred_probs):\n",
        "    fig = plt.figure(figsize=(8,8))\n",
        "    fpr, tpr, threshold = roc_curve(y_test, pred_probs)\n",
        "    plt.plot(fpr, tpr, label='ROC')\n",
        "    plt.plot([0,1], [0,1], 'k--', label='Random')\n",
        "    start, end=plt.xlim()\n",
        "    plt.xticks(np.round(np.arange(start, end, 0.1), 2))\n",
        "    plt.xlim(0,1); plt.ylim(0,1)\n",
        "    plt.xlabel('FPR(1-Sensitivity)');\n",
        "    plt.ylabel('TPR(Recall)')\n",
        "    plt.legend()\n",
        "    fig.savefig('ROC_AUC_curve.png', dpi=fig.dpi)"
      ]
    },
    {
      "cell_type": "code",
      "execution_count": null,
      "id": "16eb9e60",
      "metadata": {
        "id": "16eb9e60"
      },
      "outputs": [],
      "source": [
        "import matplotlib.pyplot as plt\n",
        "roc_curve_plot(y_test, xgb_pred_proba)"
      ]
    },
    {
      "cell_type": "code",
      "execution_count": null,
      "id": "7fca4783",
      "metadata": {
        "id": "7fca4783"
      },
      "outputs": [],
      "source": [
        "def precision_recall_curve_plot(y_test=None, pred_proba_c1=None):\n",
        "        # threshold ndarray와 이 threshold에 따른 정밀도, 재현율 ndarray 추출\n",
        "        precisions, recalls, thresholds = precision_recall_curve( y_test, pred_proba_c1)\n",
        "        # X축을 threshold값으로, Y축은 정밀도, 재현율 값으로 각각 Plot 수행. 정밀도는 점선으로 표시\n",
        "        fig=plt.figure(figsize=(8,6))\n",
        "        threshold_boundary = thresholds.shape[0]\n",
        "        plt.plot(thresholds, precisions[0:threshold_boundary], linestyle='--', label='precision')\n",
        "        plt.plot(thresholds, recalls[0:threshold_boundary],label='recall')\n",
        "        # threshold 값 X 축의 Scale을 0.1 단위로 변경\\n\",\n",
        "        start, end = plt.xlim()\n",
        "        plt.xticks(np.round(np.arange(start, end, 0.1),2))\n",
        "        # x축, y축 label과 legend, 그리고 grid 설정\\n\",\n",
        "        plt.xlabel('Threshold value'); plt.ylabel('Precision and Recall value')\n",
        "        plt.legend(); plt.grid()\n",
        "        plt.show()\n",
        "        fig.savefig('Recall_precision_value.png', dpi=fig.dpi)"
      ]
    },
    {
      "cell_type": "code",
      "execution_count": null,
      "id": "e573a76e",
      "metadata": {
        "scrolled": true,
        "id": "e573a76e"
      },
      "outputs": [],
      "source": [
        "precision_recall_curve_plot(y_test, xgb_pred_proba)"
      ]
    },
    {
      "cell_type": "code",
      "execution_count": null,
      "id": "f5d6698c",
      "metadata": {
        "id": "f5d6698c"
      },
      "outputs": [],
      "source": []
    }
  ],
  "metadata": {
    "kernelspec": {
      "display_name": "Python 3 (ipykernel)",
      "language": "python",
      "name": "python3"
    },
    "language_info": {
      "codemirror_mode": {
        "name": "ipython",
        "version": 3
      },
      "file_extension": ".py",
      "mimetype": "text/x-python",
      "name": "python",
      "nbconvert_exporter": "python",
      "pygments_lexer": "ipython3",
      "version": "3.9.7"
    },
    "colab": {
      "provenance": [],
      "include_colab_link": true
    }
  },
  "nbformat": 4,
  "nbformat_minor": 5
}